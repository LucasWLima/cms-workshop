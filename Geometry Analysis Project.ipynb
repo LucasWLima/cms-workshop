{
 "cells": [
  {
   "cell_type": "markdown",
   "metadata": {},
   "source": [
    "# Geometry Analysis Project"
   ]
  },
  {
   "cell_type": "code",
   "execution_count": 49,
   "metadata": {},
   "outputs": [
    {
     "name": "stdout",
     "output_type": "stream",
     "text": [
      "O to O : 0.000\n",
      "O to H1 : 0.969\n",
      "O to H2 : 0.969\n",
      "H1 to H1 : 0.000\n",
      "H2 to H2 : 0.000\n",
      "\n"
     ]
    }
   ],
   "source": [
    "import os\n",
    "import numpy as np\n",
    "\n",
    "# Defining the file path\n",
    "file = os.path.join('/home/lucasw/Disciplinas/Python/cms-workshop', 'water.xyz')\n",
    "\n",
    "# Opening the water.xyz file as a numpy array\n",
    "water_xyz = np.genfromtxt(fname=file, dtype='unicode', skip_header=2)\n",
    "water_coordinates = water_xyz[:,1:]  # defining the molecular coordinates without the number of atoms and title\n",
    "water_coordinates = water_coordinates.astype(np.float)\n",
    "water_atom_symbols = water_xyz[:,0]\n",
    "\n",
    "# Defining function to calculate distances\n",
    "def dist(x1, x2, y1, y2, z1, z2):\n",
    "    dx = (x1-x2)\n",
    "    dy = (y1-y2)\n",
    "    dz = (z1-z2)\n",
    "    distance = np.sqrt(dx**2 + dy**2 + dz**2)\n",
    "    return distance\n",
    "\n",
    "with open('bond_lengths.txt', 'w+') as results:\n",
    "    for i in range(0,3):\n",
    "        for j in range(0,3):\n",
    "            if i <= j:\n",
    "                distances = dist(water_coordinates[i,0], water_coordinates[j,0], water_coordinates[i,1], water_coordinates[j,1], water_coordinates[i,2], water_coordinates[j,2])\n",
    "                if distances < 1.5:\n",
    "                    # Writing the data calculated with 3 decimal places (.3f symbol) in the file bond_lengths.txt\n",
    "                    results.write(F'{water_atom_symbols[i]} to {water_atom_symbols[j]} : {distances:.3f}\\n')\n",
    "\n",
    "                    \n",
    "with open('bond_lengths.txt', 'r') as bond:\n",
    "    bond_lengths = bond.read()\n",
    "    print(bond_lengths)\n"
   ]
  },
  {
   "cell_type": "markdown",
   "metadata": {},
   "source": [
    "# Alternative code (Writing Functions lesson)"
   ]
  },
  {
   "cell_type": "code",
   "execution_count": 3,
   "metadata": {},
   "outputs": [
    {
     "name": "stdout",
     "output_type": "stream",
     "text": [
      "O to H1 : 0.969\n",
      "\n",
      "O to H2 : 0.969\n",
      "\n",
      "Help on function calculate_distance in module __main__:\n",
      "\n",
      "calculate_distance(atom1_coord, atom2_coord)\n",
      "    Calculate the distance between two three-dimensional points.\n",
      "\n"
     ]
    }
   ],
   "source": [
    "import os\n",
    "import numpy as np\n",
    "\n",
    "# Defining the file path\n",
    "file = os.path.join('/home/lucasw/Disciplinas/Python/cms-workshop', 'water.xyz')\n",
    "\n",
    "# Opening the water.xyz file as a numpy array\n",
    "water_xyz = np.genfromtxt(fname=file, dtype='unicode', skip_header=2)\n",
    "symbols = water_xyz[:,0] # Atom symbols\n",
    "water_coordinates = water_xyz[:,1:]  # defining the molecular coordinates without the number of atoms and title\n",
    "water_coordinates = water_coordinates.astype(np.float)\n",
    "\n",
    "num_atoms = len(symbols)\n",
    "\n",
    "# Defining the function to calculate distances\n",
    "def calculate_distance(atom1_coord, atom2_coord):\n",
    "    \"\"\"Calculate the distance between two three-dimensional points.\"\"\"\n",
    "    x_distance = atom1_coord[0] - atom2_coord[0] \n",
    "    y_distance = atom1_coord[1] - atom2_coord[1] \n",
    "    z_distance = atom1_coord[2] - atom2_coord[2]\n",
    "    bond_length_12 = np.sqrt(x_distance**2 + y_distance**2 + z_distance**2)\n",
    "    return bond_length_12\n",
    "\n",
    "for num1 in range(0, num_atoms):\n",
    "    for num2 in range(0, num_atoms):\n",
    "        if num1 < num2:\n",
    "            bond_length_12 = calculate_distance(water_coordinates[num1], water_coordinates[num2])\n",
    "            if bond_length_12 > 0 and bond_length_12 <= 1.5:\n",
    "                print(F'{symbols[num1]} to {symbols[num2]} : {bond_length_12:.3f}\\n')\n",
    "            \n",
    "help(calculate_distance)            "
   ]
  },
  {
   "cell_type": "code",
   "execution_count": null,
   "metadata": {},
   "outputs": [],
   "source": []
  }
 ],
 "metadata": {
  "kernelspec": {
   "display_name": "Python 3",
   "language": "python",
   "name": "python3"
  },
  "language_info": {
   "codemirror_mode": {
    "name": "ipython",
    "version": 3
   },
   "file_extension": ".py",
   "mimetype": "text/x-python",
   "name": "python",
   "nbconvert_exporter": "python",
   "pygments_lexer": "ipython3",
   "version": "3.7.6"
  }
 },
 "nbformat": 4,
 "nbformat_minor": 4
}
