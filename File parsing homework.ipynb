{
 "cells": [
  {
   "cell_type": "markdown",
   "metadata": {},
   "source": [
    "# File parsing homework"
   ]
  },
  {
   "cell_type": "code",
   "execution_count": 5,
   "metadata": {},
   "outputs": [],
   "source": [
    "import os\n",
    "\n",
    "# Defining the file path\n",
    "file = os.path.join('/home/lucasw/Disciplinas/Python/cms-workshop', '03_Prod.mdout')\n",
    "\n",
    "# Opening the file Etot.txt\n",
    "with open ('Etot.txt', 'w+') as Etot:\n",
    "    \n",
    "    # Opening the working file to parse\n",
    "    with open (file, 'r') as f:\n",
    "        data = f.readlines()\n",
    "        for line in data:\n",
    "            if 'Etot  ' in line:\n",
    "                etot = line\n",
    "                etot_split = etot.split()\n",
    "                energy = float(etot_split[2])\n",
    "                \n",
    "                # Writing the data in Etot.txt file\n",
    "                Etot.write(F'{energy}\\n')"
   ]
  },
  {
   "cell_type": "code",
   "execution_count": 1,
   "metadata": {},
   "outputs": [],
   "source": [
    "import os\n",
    "\n",
    "# Defining the file path\n",
    "file = os.path.join('/home/lucasw/Disciplinas/Python/cms-workshop', '03_Prod.mdout')\n",
    "\n",
    "# Opening the file Etot.txt\n",
    "with open ('Etot_teste.txt', 'w') as Etot:\n",
    "    \n",
    "    # Opening the working file to parse\n",
    "    with open (file, 'r') as f:\n",
    "        data = f.readlines()\n",
    "        etot = []       \n",
    "        for line in data:\n",
    "            split_line = line.split()\n",
    "            if 'Etot  ' in line:\n",
    "                etot.append(float(split_line[2]))\n",
    "    \n",
    "    values = etot[:-2]\n",
    "    for value in values:                  \n",
    "        # Writing the data in Etot.txt file\n",
    "        Etot.write(F'{value}\\n')\n",
    "                \n"
   ]
  },
  {
   "cell_type": "code",
   "execution_count": null,
   "metadata": {},
   "outputs": [],
   "source": []
  }
 ],
 "metadata": {
  "kernelspec": {
   "display_name": "Python 3",
   "language": "python",
   "name": "python3"
  },
  "language_info": {
   "codemirror_mode": {
    "name": "ipython",
    "version": 3
   },
   "file_extension": ".py",
   "mimetype": "text/x-python",
   "name": "python",
   "nbconvert_exporter": "python",
   "pygments_lexer": "ipython3",
   "version": "3.7.6"
  }
 },
 "nbformat": 4,
 "nbformat_minor": 4
}
